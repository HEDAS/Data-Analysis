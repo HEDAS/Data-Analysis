{
 "cells": [
  {
   "cell_type": "code",
   "execution_count": 3,
   "metadata": {},
   "outputs": [
    {
     "name": "stdout",
     "output_type": "stream",
     "text": [
      "\n",
      "数据的行数和列数： (13850, 44)\n",
      "\n",
      "数据的标签： Index(['日期', '商品编号', '商品名称', '首次入库时间', '一级分类', '二级分类', '三级分类', '采购员', '销售员',\n",
      "       '上下柜状态', '在库库存', '北京在库库存', '上海在库库存', '广州在库库存', '成都在库库存', '武汉在库库存',\n",
      "       '沈阳在库库存', '西安库存', '固安在库库存', '其它机构在库库存', '暂停订单量', '进价', '市场价', '京东价',\n",
      "       '一日销量', '7日销量', '14天销量', '28天销量', '90天销量', '过去四周入库量', '采购在途', '上下柜时间',\n",
      "       'SKU创建时间', '品牌', '供应商简码', '供应商ID', '供应商名称', '订单BAND', '点击band', '一周点击量',\n",
      "       '是否厂家直送', '是否临期可退', '是否全国发货', '是否售完即止'],\n",
      "      dtype='object')\n"
     ]
    }
   ],
   "source": [
    "#数据的读入\n",
    "import pandas as pd\n",
    "import numpy as np\n",
    "import matplotlib.pyplot as plt\n",
    "data=pd.read_excel('data.xlsx')\n",
    "#print(data)\n",
    "print(\"\\n数据的行数和列数：\",data.shape)\n",
    "print(\"\\n数据的标签：\",data.columns)"
   ]
  },
  {
   "cell_type": "code",
   "execution_count": 2,
   "metadata": {},
   "outputs": [
    {
     "name": "stdout",
     "output_type": "stream",
     "text": [
      "是否含有缺失数据 True\n",
      "首次入库时间\n",
      "供应商简码\n",
      "供应商名称\n",
      "订单BAND\n",
      "点击band\n"
     ]
    }
   ],
   "source": [
    "#处理缺失数据\n",
    "#判断是否含有缺失的数据\n",
    "print('是否含有缺失数据',np.any(data.isnull()==True))\n",
    "#找出含缺失数据的列\n",
    "for null_column in data.columns:\n",
    "    if(np.any(data[null_column].isnull()==True)):\n",
    "        print(null_column)\n",
    "#print(data.loc[21,'供应商名称'])"
   ]
  },
  {
   "cell_type": "code",
   "execution_count": 3,
   "metadata": {},
   "outputs": [
    {
     "name": "stdout",
     "output_type": "stream",
     "text": [
      "日期\n",
      "销售员\n",
      "暂停订单量\n",
      "过去四周入库量\n",
      "供应商ID\n",
      "是否全国发货\n"
     ]
    }
   ],
   "source": [
    "for rep_column in data.columns:\n",
    "    if np.all(data[rep_column]==data.loc[0,rep_column]):\n",
    "        print(rep_column)"
   ]
  },
  {
   "cell_type": "code",
   "execution_count": 4,
   "metadata": {
    "collapsed": true
   },
   "outputs": [],
   "source": [
    "del(data['首次入库时间'])\n",
    "#商品编号没啥用\n",
    "del(data['商品编号'])\n",
    "#同理\n",
    "del(data['订单BAND'])\n",
    "for label in ['点击band','上下柜时间','SKU创建时间']:\n",
    "    del(data[label])\n",
    "for label in ['一级分类', '二级分类', '三级分类']:\n",
    "    del(data[label])\n",
    "del(data['采购员'])\n",
    "del(data['上下柜状态'])"
   ]
  },
  {
   "cell_type": "code",
   "execution_count": 5,
   "metadata": {},
   "outputs": [
    {
     "name": "stdout",
     "output_type": "stream",
     "text": [
      "-1\n",
      "-1\n",
      "-2\n",
      "-1\n",
      "-1\n",
      "-1\n",
      "-1\n",
      "-1\n",
      "-1\n",
      "-1\n",
      "-1\n",
      "-1\n",
      "-1\n",
      "-1\n",
      "-1\n",
      "-2\n",
      "-1\n",
      "-1\n",
      "-1\n",
      "-1\n",
      "-1\n",
      "-1\n",
      "-1\n",
      "-1\n",
      "-1\n",
      "-1\n",
      "-3\n",
      "-1\n",
      "-1\n",
      "-4\n",
      "-1\n",
      "-1\n",
      "-1\n",
      "-4\n",
      "-1\n",
      "-1\n",
      "-1\n",
      "-1\n",
      "-1\n",
      "-1\n",
      "-1\n",
      "-1\n",
      "-1\n",
      "-1\n",
      "-1\n",
      "-2\n",
      "-1\n",
      "-11\n",
      "-1\n",
      "-1\n"
     ]
    }
   ],
   "source": [
    "for idx in data['在库库存']:\n",
    "    if idx<0:\n",
    "        print(idx)"
   ]
  },
  {
   "cell_type": "code",
   "execution_count": 6,
   "metadata": {},
   "outputs": [
    {
     "name": "stdout",
     "output_type": "stream",
     "text": [
      "3885\n",
      "7695\n",
      "9165\n",
      "9876\n",
      "11423\n",
      "11910\n",
      "11931\n"
     ]
    }
   ],
   "source": [
    "check_list=['在库库存','北京在库库存','上海在库库存','广州在库库存','成都在库库存','武汉在库库存','沈阳在库库存','西安库存','固安在库库存','其它机构在库库存']\n",
    "\n",
    "for idx in data.index:\n",
    "    sum_column=0\n",
    "    for check_target in check_list[1:]:\n",
    "        sum_column+=data.loc[idx,check_target]\n",
    "    if data.loc[idx,check_list[0]]!=sum_column:\n",
    "        print(idx)"
   ]
  },
  {
   "cell_type": "code",
   "execution_count": 7,
   "metadata": {
    "collapsed": true
   },
   "outputs": [],
   "source": [
    "for idx in data.index:\n",
    "    sum_column=0\n",
    "    for check_target in check_list[1:]:\n",
    "        sum_column+=data.loc[idx,check_target]\n",
    "    if data.loc[idx,check_list[0]]!=sum_column:\n",
    "        data.loc[idx,check_list[0]]=-100"
   ]
  },
  {
   "cell_type": "code",
   "execution_count": 8,
   "metadata": {
    "collapsed": true
   },
   "outputs": [],
   "source": [
    "data=data[data['在库库存']>=0]"
   ]
  },
  {
   "cell_type": "code",
   "execution_count": 9,
   "metadata": {
    "collapsed": true
   },
   "outputs": [],
   "source": [
    "data=data.dropna(axis=0,how='any')"
   ]
  },
  {
   "cell_type": "code",
   "execution_count": 10,
   "metadata": {},
   "outputs": [
    {
     "name": "stdout",
     "output_type": "stream",
     "text": [
      "GoodBye!!!\n"
     ]
    }
   ],
   "source": [
    "data.to_excel('data_wash_new.xlsx')\n",
    "print(\"GoodBye!!!\")"
   ]
  },
  {
   "cell_type": "code",
   "execution_count": null,
   "metadata": {
    "collapsed": true
   },
   "outputs": [],
   "source": []
  }
 ],
 "metadata": {
  "kernelspec": {
   "display_name": "Python 3",
   "language": "python",
   "name": "python3"
  },
  "language_info": {
   "codemirror_mode": {
    "name": "ipython",
    "version": 3
   },
   "file_extension": ".py",
   "mimetype": "text/x-python",
   "name": "python",
   "nbconvert_exporter": "python",
   "pygments_lexer": "ipython3",
   "version": "3.6.1"
  }
 },
 "nbformat": 4,
 "nbformat_minor": 2
}
